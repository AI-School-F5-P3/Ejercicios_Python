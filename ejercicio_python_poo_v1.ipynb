{
  "cells": [
    {
      "cell_type": "markdown",
      "id": "0056d580",
      "metadata": {
        "id": "0056d580"
      },
      "source": [
        "# Programación Orientada a Objetos (POO)"
      ]
    },
    {
      "cell_type": "markdown",
      "id": "d70cc38a",
      "metadata": {
        "id": "d70cc38a"
      },
      "source": [
        "## Qué es la POO\n",
        "\n",
        "Se trata de un paradigma de programación, es decir, de la manera en la que vamos a pensar a la hora de picar un código. Claro que también tiene una sintaxis y unos elementos propios, pero sobre todo, como digo, la manera de enfocarlo.\n",
        "\n",
        "Existen otros paradigmas (programación funcional, orientada a componentes, etc), pero Python es un lenguaje muy preparado para la programación orientada a objetos (aunque no tanto como por ejemplo Java, que es exclusivamente orientado a objetos) y es lo que vamos a ver.\n",
        "\n",
        "Tenemos que empezar a entender que lo que programamos son entidades (objetos, cosas). Esos objetos tienen una serie de propiedades (atributos) y son capaces de realizar una serie de acciones (métodos).\n",
        "\n",
        "Además tenemos que distinguir, una cosa es la definición del objeto, lo que la cosa que estoy programando es (la clase) y otra diferente son las distintas cosas concretas que pertenecen a esa clase (instancias), o sea, que son de ese tipo.\n",
        "\n",
        "A la hora de la práctica, una clase se define con la cláusula class. El nombre de la clase, por convención, debe ir con la primera en mayúscula.\n",
        "\n",
        "Investigad eso. Primero:\n",
        "\n",
        "- Qué es una clase y qué una instancia, y cómo se declaran en Python\n",
        "\n",
        "Luego:\n",
        "\n",
        "- Qué es un atributo y qué es un método, y cómo se declaran en Python"
      ]
    },
    {
      "cell_type": "markdown",
      "id": "3a0fbd63",
      "metadata": {
        "id": "3a0fbd63"
      },
      "source": [
        "## POO Ejercicio 1:\n",
        "\n",
        "Programad una clase Coche. Debe tener un atributo que sea el número de ruedas que tiene, el kilometraje total y el kilometraje relativo.\n",
        "\n",
        "Además tiene que tener un método \"movimiento\", que le suma 10km al kilometraje total y al relativo, otro método que reinicia el kilometraje relativo a 0, otro que me imprime cual es el kilometraje total y otro que me imprime cuál es el kilometraje relativo.\n",
        "\n",
        "Después instanciad el objeto en una variable y utilizad el método para que se mueva. Despues el método para que os diga el kilometraje (y veis si ha aumentado). Luego, el que lo imprime. Probad tambien a reiniciar el kilometraje relativo, y en general jugad un poco con ello"
      ]
    },
    {
      "cell_type": "code",
      "execution_count": 4,
      "id": "0ef7e175",
      "metadata": {},
      "outputs": [],
      "source": [
        "# Definición sin constructor\n",
        "\n",
        "class coches: \n",
        "    #Definición de atributos\n",
        "    ruedas = 4\n",
        "    km_total = 0\n",
        "    km_rel = 0\n",
        "    #Definición de métodos\n",
        "    def movimiento(self):\n",
        "        self.km_total += 10\n",
        "        self.km_rel += 10\n",
        "    def restart(self):\n",
        "        self.km_rel = 0\n",
        "    def print_total(self):\n",
        "        print(self.km_total)\n",
        "    def print_rel(self):\n",
        "        print(self.km_rel)"
      ]
    },
    {
      "cell_type": "code",
      "execution_count": 5,
      "id": "6353a9bb",
      "metadata": {},
      "outputs": [
        {
          "name": "stdout",
          "output_type": "stream",
          "text": [
            "0\n",
            "0\n",
            "10\n",
            "10\n",
            "10\n",
            "0\n"
          ]
        }
      ],
      "source": [
        "#Pruebas de funcionamiento\n",
        "coches_inst = coches() #Instancia coches, 4 ruedas, 0 km_total, 0 km_rel\n",
        "coches_inst.print_total() #0\n",
        "coches_inst.print_rel() #0\n",
        "coches_inst.movimiento() #añade 10\n",
        "coches_inst.print_total() #10\n",
        "coches_inst.print_rel() #10\n",
        "coches_inst.restart() #km_rel a 0\n",
        "coches_inst.print_total() #10 \n",
        "coches_inst.print_rel() #0"
      ]
    },
    {
      "cell_type": "code",
      "execution_count": 6,
      "id": "3218fdba",
      "metadata": {
        "id": "3218fdba"
      },
      "outputs": [],
      "source": [
        "#Definición con constructor\n",
        "class coche:\n",
        "    #Definición de atributos, modificables al instanciar\n",
        "    def __init__(self, ruedas, km_total, km_rel = 0): # Se establece un argumento por defecto para que km_rel empiece en 0 pero que pueda ser modificado por el usuario\n",
        "        self.ruedas = ruedas # self indica los atributos locales de la clase instanciada\n",
        "        self.km_total = km_total\n",
        "        self.km_rel = km_rel\n",
        "    #Definición de métodos\n",
        "    def movimiento(self): \n",
        "        self.km_total += 10\n",
        "        self.km_rel += 10\n",
        "    def restart(self):\n",
        "        self.km_rel = 0\n",
        "    def imprimir_total(self):\n",
        "        print(self.km_total)\n",
        "    def imprimir_relativo(self):\n",
        "        print(self.km_rel)\n"
      ]
    },
    {
      "cell_type": "code",
      "execution_count": 8,
      "id": "b65e0cff",
      "metadata": {},
      "outputs": [
        {
          "name": "stdout",
          "output_type": "stream",
          "text": [
            "10\n",
            "0\n",
            "20\n",
            "10\n",
            "20\n",
            "0\n"
          ]
        }
      ],
      "source": [
        "#Pruebas de funcionamiento\n",
        "coche_inst = coche(4, 10) #Coche 4 ruedas, 10 km totales, por defecto 0 km relativos\n",
        "\n",
        "coche_inst.imprimir_total() # 10\n",
        "coche_inst.imprimir_relativo() # 0\n",
        "coche_inst.movimiento() # Añade 10\n",
        "coche_inst.imprimir_total() # 20\n",
        "coche_inst.imprimir_relativo() # 10\n",
        "coche_inst.restart() # km_rel a 0\n",
        "coche_inst.imprimir_total() # 20\n",
        "coche_inst.imprimir_relativo() # 0\n"
      ]
    },
    {
      "cell_type": "markdown",
      "id": "f35163f0",
      "metadata": {
        "id": "f35163f0"
      },
      "source": [
        "## Métodos mágicos:\n",
        "\n",
        "Existen métodos de las clases que vienen ya definidas por python y que tienen comportamientos especiales (y que son necesarios). Estos métodos (se llaman métodos magicos), empiezan y acaban por una doble barra baja \\_\\_. Por ejemplo \\_\\_init\\_\\_. Este último método es especialmente importante y debéis aprender cómo funciona. Pero no es el único, por ejemplo \\_\\_str\\_\\_, \\_\\_repr\\_\\_, \\_\\_call\\_\\_, \\_\\_iter\\_\\_, \\_\\_next\\_\\_, etc. Investigad lo que se puede hacer.\n",
        "\n",
        "\\_\\_init\\_\\_ se llama al instanciar un objeto y es el constructor de dicha instancia. Por tanto es probablemente el mas usado. Nos permite pasarle parámetros a la hora de la construcción para que el objeto se inicialice bajo ciertas condiciones."
      ]
    },
    {
      "cell_type": "markdown",
      "id": "f9757961",
      "metadata": {
        "id": "f9757961"
      },
      "source": [
        "## POO Ejercicio 2:\n",
        "\n",
        "Reutilizad el código anterior del coche, pero esta vez vamos a añadirle un constructor. Vamos a añadirle un nuevo atributo que sea el color y otro que sea la matrícula. A la hora de instanciar la clase, deberíamos pasarle por parámetro cuál es el color y cuál la matrícula"
      ]
    },
    {
      "cell_type": "code",
      "execution_count": 9,
      "id": "e9309580",
      "metadata": {
        "id": "e9309580"
      },
      "outputs": [],
      "source": [
        "#Igual que codigo previo, añadiendo color y matricula\n",
        "class Coche:\n",
        "    #Definición de atributos\n",
        "    def __init__(self, ruedas, km_total, color, matricula, km_rel = 0): # Al definir un argumento por defecto, tiene que ir al final de la definición\n",
        "        self.ruedas = ruedas\n",
        "        self.km_total = km_total\n",
        "        self.km_rel = km_rel\n",
        "        self.color = color\n",
        "        self.matricula = matricula\n",
        "    #Definición de métodos\n",
        "    def movimiento(self):\n",
        "        self.km_total += 10\n",
        "        self.km_rel += 10\n",
        "    def restart(self):\n",
        "        self.km_rel = 0\n",
        "    def imprimir_total(self):\n",
        "        print(self.km_total)\n",
        "    def imprimir_relativo(self):\n",
        "        print(self.km_rel)"
      ]
    },
    {
      "cell_type": "code",
      "execution_count": 10,
      "id": "2aaf2f5c",
      "metadata": {},
      "outputs": [
        {
          "name": "stdout",
          "output_type": "stream",
          "text": [
            "0\n",
            "0\n",
            "10\n",
            "10\n",
            "10\n",
            "0\n"
          ]
        }
      ],
      "source": [
        "#Pruebas de funcionamiento\n",
        "moto = Coche(2, 0, \"rojo\", \"2034HYT\", 0)\n",
        "\n",
        "moto.imprimir_total() #0\n",
        "moto.imprimir_relativo() #0\n",
        "moto.movimiento() \n",
        "moto.imprimir_total() #10\n",
        "moto.imprimir_relativo() #10\n",
        "moto.restart()\n",
        "moto.imprimir_total() #10\n",
        "moto.imprimir_relativo() #0"
      ]
    },
    {
      "cell_type": "markdown",
      "id": "0e568167",
      "metadata": {
        "id": "0e568167"
      },
      "source": [
        "## Encapsulación\n",
        "\n",
        "A veces podemos programar a una clase atributos que no queremos que sean accesibles desde fuera de la propia clase, queremos que solo sean accedidos y modificados por métodos de la propia clase.\n",
        "\n",
        "A eso se llama encapsular, porque te da la seguridad de que un atributo no es utilizado incorrectamente. Algunos lenguajes incorporan esto y tú les indicas si quieres que un atributo sea público o privado. Python sin embargo no, todos los atributos son siempre públicos y por tanto accesibles desde fuera. Lo que la comunidad ha resuelto es una convención. Siempre que queramos que un atributo sea privado, debe empezar por doble símbolo \\_. Por ejemplo: .\\_\\_contador.\n",
        "\n",
        "Esto no aumenta la seguridad, ya que como digo, no lo hace realmente público, pero si que es un aviso para otros desarrolladores de que un atributo no se debería modificar. Además, Python le cambia el nombre internament. Si yo tengo un atributo llamado .\\_\\_contador en una clase llamada MiClase, en vez de acceder a ella como MiClase.\\_\\_contador, debería acceder como MiClase.\\_MiClase\\_\\_contador. Esto se usa también por si creamos un atributo o método que entraría en conflicto con los que vienen en Python por defecto."
      ]
    },
    {
      "cell_type": "markdown",
      "id": "53a80044",
      "metadata": {
        "id": "53a80044"
      },
      "source": [
        "## POO Ejercicio 3:\n",
        "\n",
        "Programad una clase \"LogIn\" que al instanciarse te pida un nombre de usuario, una contraseña y un correo electrónico. El atributo de la contraseña debe ser privado una vez generado. Programad un atributo \"get_password\" que nos muestre la contraseña, pero hasheada (investigad qué es esto y cómo se hace en python), y otro método que me permita cambiar la contraseña"
      ]
    },
    {
      "cell_type": "code",
      "execution_count": 11,
      "id": "73c0bad0",
      "metadata": {
        "id": "73c0bad0"
      },
      "outputs": [],
      "source": [
        "import hashlib # Biblioteca de generación de hashes de distinto tipo: MD5, SHA(1, 256, 384, etc.)\n",
        "\n",
        "class LogIn:\n",
        "    # Definición de atributos mediante input del usuario\n",
        "    def __init__(self):\n",
        "        self.user = input(\"Introduce un nombre de usuario: \")\n",
        "        self.__password = input(\"Introduce una contraseña segura: \") # Definición de atributo 'privado'\n",
        "        self.email = input(\"Introduce tu email: \")\n",
        "    def getpassword(self):\n",
        "        '''\n",
        "        Se emplea como codificador SHA-256 por ser uno de los algoritmos de codificación más populares.\n",
        "        Convierte texto de cualquier longitud en una cadena fija de 256 bytes, permitiendo una encriptación segura de los datos.\n",
        "        Además, permite confirmar la veracidad de un archivo, por ejemplo al descargar un instalador de internet, ya que si el archivo no ha sido modificado\n",
        "        los hashes serán iguales.\n",
        "        '''\n",
        "        password_hash = hashlib.sha256(self.__password.encode('utf-8')) # Hash del password, codificado en bytes (utf-8, unicode) mediante .encode para poder pasar a la función.\n",
        "        print(password_hash.hexdigest()) # hexdigest devuelve el hash en hexadecimal\n",
        "    def change_password (self, password, password_new):\n",
        "        '''\n",
        "        Se puede simplificar el proceso haciendo una comparación simple entre la contraseña guardada y la contraseña introducida, pero al haber comenzado\n",
        "        a trabajar con hashes, se pueden emplear para hacer la comprobación.\n",
        "        '''\n",
        "        real_password_hash = hashlib.sha256(self.__password.encode('utf-8'))\n",
        "        user_password_hash = hashlib.sha256(password.encode('utf-8'))\n",
        "        if real_password_hash.hexdigest() == user_password_hash.hexdigest(): # Si los valores coinciden se actualiza la contraseña\n",
        "            self.__password = password_new\n",
        "        else:\n",
        "            self.__password = self.__password\n",
        "            print(\"contraseña incorrecta\")"
      ]
    },
    {
      "cell_type": "code",
      "execution_count": 18,
      "id": "c1644931",
      "metadata": {},
      "outputs": [
        {
          "name": "stdout",
          "output_type": "stream",
          "text": [
            "a665a45920422f9d417e4867efdc4fb8a04a1f3fff1fa07e998e86f7f7a27ae3\n"
          ]
        }
      ],
      "source": [
        "#Hash del password\n",
        "usuario = LogIn()\n",
        "usuario.getpassword()"
      ]
    },
    {
      "cell_type": "code",
      "execution_count": 19,
      "id": "76a32f10",
      "metadata": {},
      "outputs": [],
      "source": [
        "#Pruebas de cambio de contraseña\n",
        "usuario.change_password(\"123\", \"Contraseña123\")"
      ]
    },
    {
      "cell_type": "code",
      "execution_count": 20,
      "id": "13a7465a",
      "metadata": {},
      "outputs": [
        {
          "data": {
            "text/plain": [
              "'Contraseña123'"
            ]
          },
          "execution_count": 20,
          "metadata": {},
          "output_type": "execute_result"
        }
      ],
      "source": [
        "#Obtención de un atributo privado\n",
        "usuario._LogIn__password"
      ]
    },
    {
      "cell_type": "markdown",
      "id": "042a53fc",
      "metadata": {
        "id": "042a53fc"
      },
      "source": [
        "## Herencia\n",
        "\n",
        "Empezamos con las cosas que hace que este tipo de programación sea potente.\n",
        "\n",
        "A veces, y como sucede en la vida real, una clase puede pertenecer a una clase superior y compartir características con el resto de clases que también pertenecen a esa clase superior. Por ejemplo, aunque una moto y un coche son diferentes en que uno tiene 2 ruedas y el otro 2, ambos son vehículos, y como ambos son vehículos los dos se desplazan, los dos tienen un depósito de gasolina, los dos tienen un kilometraje, etc.\n",
        "\n",
        "Si quisiera programar una clase coche y una clase moto, tendría que repetir el mismo código y eso no es bueno. Imaginad que en vez de solo moto y coche quiero programar 20 tipos de vehículos, tendría que repetir el mismo código 20 veces. Eso aumenta las posibilidades de que en alguna clase me equivoque, y luego es difícil de detectar porque solo me enteraría al instanciar ese vehículo, y después tendría que revisar todo el código en busca del problema. Pero además imaginad que quiero hacer un cambio en la lógica de cómo se calcula la gasolina que queda en el depósito, tendría que repetir el cambio en cada vehículo.\n",
        "\n",
        "LA solución es la herencia. Yo puedo programar una clase Vehículo que incorpore lo que por defecto incorporan los vehículos. Después puedo indicar que la clase Coche heredaría de vehículo y tendría todo lo que tiene vehículo además de todo lo que le programe a Coche, y así con todos los tipos de vehículo que quiera programar. Si quiero hacer un cambio en por ejemplo la manera en que se calcula el kilometraje, lo cambio en la clase Vehículo y el cambio se propaga a los hijos sin que tenga que hacer nada más. El código se reduce y es mas limpio, mas legible y más mantenible."
      ]
    },
    {
      "cell_type": "markdown",
      "id": "09369611",
      "metadata": {
        "id": "09369611"
      },
      "source": [
        "## POO Ejercicio 4:\n",
        "\n",
        "Sois desarrolladores del nuevo juego de Pokémon. Hay 902 Pokémons actualmente (imagináos programar cada uno xD)\n",
        "\n",
        "De todas formas vamos a empezar desde 0. Tenéis que programar a Squirtle, Totodile, Mudkip (los tres, tipo agua), Charmander, Cyndaquil, Torchic (los tres, tipo fuego), Bulbasaur, Chikorita y Treecko (los tres tipo planta).\n",
        "\n",
        "Tendréis que programar primero una clase Pokemon. Todos los pokemon pueden atacar, tienen puntos de vida, pueden defenderse y tienen una lista de ataques. Todos conocen el ataque \"arañazo\". Tienen debilidades a algunos tipos y fortalezas contra otros tipos. Los Pokemon tipo planta saben el ataque \"látigo cepa\", son fuertes contra el agua y débiles contra el fuego (hacen el doble de daño al agua y la mitad al fuego, y viceversa, reciben el doble de daño por fuego y la mitad por agua). Los tipo fuego saben \"lanzallamas\", son débiles contra el agua pero fuertes contra tipo planta. Por último, los tipo agua saben el ataque \"pistola agua\", son fuertes contra fuego, pero débiles contra planta. Suena a muchísimo, pero con POO se simplifica muchísimo, si lo usáis correctamente ;)\n",
        "\n",
        "Pista: Las herencias se pueden dar por niveles"
      ]
    },
    {
      "cell_type": "code",
      "execution_count": 21,
      "id": "8ca71ed0",
      "metadata": {
        "id": "8ca71ed0"
      },
      "outputs": [],
      "source": [
        "class Pokemon:\n",
        "    '''\n",
        "    Se definen aquellos atributos que tendrán todos los pokemons siguientes.\n",
        "    La vida, que se fija en un mínimo posible\n",
        "    Comandos disponibles (ataque, defensa)\n",
        "    Ataques aprendidos (Arañazo, que está disponible en todos los pokemons)\n",
        "    '''\n",
        "    hp = 1 #Valor mínimo posible de HP\n",
        "    comandos = [\"Ataque\", \"Defensa\"]\n",
        "    ataques = [\"Arañazo\"]\n",
        "\n",
        "'''\n",
        "Se definen las tres posibles clases por tipo (aunque oficialmente haya muchos más), con aquellas características que tendrán los pokemons de este tipo.\n",
        "Por una parte los ataques disponibles y por otra parte sus debilidades y fortalezas.\n",
        "'''\n",
        "\n",
        "class Agua(Pokemon):\n",
        "    ataques = Pokemon.ataques + [\"Pistola Agua\"] # Se añade Pistola Agua a Arañazo, que tienen disponibles todos los pokemons.\n",
        "    debil = \"Planta\"\n",
        "    fuerte = \"Fuego\"\n",
        "\n",
        "class Fuego(Pokemon):\n",
        "    ataques = Pokemon.ataques + [\"Lanzallamas\"] # Se añade Lanzallamas a Arañazo.\n",
        "    debil = \"Agua\"\n",
        "    fuerte = \"Planta\"\n",
        "\n",
        "class Planta(Pokemon):\n",
        "    ataques = Pokemon.ataques + [\"Latigo Cepa\"] # Se añade Latigo Cepa a Arañazo.\n",
        "    debil = \"Fuego\"\n",
        "    fuerte = \"Agua\"\n",
        "\n",
        "'''\n",
        "Finalmente se definene las clases de los distintos pokemons.\n",
        "En este caso simplificamos generando una serie de ataques que cada pokemon aprende en sus primeros niveles, según pokemon database.\n",
        "Los puntos de vida (hp) se definen añadiendo el total - 1 de vida de cada pokemon, atendiendo al valor base de pokemon database.\n",
        "Se podrían añadir argumentos en el constructor para definir niveles, IVs, EVs, MT, MO's, etc., para disponer de unos valores más acertados, pero para no complicar\n",
        "el proceso se ha dejado en argumentos fijos de ataques y vida.\n",
        "'''\n",
        "\n",
        "class Squirtle(Agua):\n",
        "    def __init__(self):\n",
        "        self.ataques = Agua.ataques + [\"Placaje\", \"Golpe rapido\"]\n",
        "        self.hp = Pokemon.hp + 43\n",
        "\n",
        "class Totodile(Agua):\n",
        "    def __init__(self):\n",
        "        self.ataques = Agua.ataques + [\"Mordisco\", \"Leer\"]\n",
        "        self.hp = Pokemon.hp + 49\n",
        "\n",
        "class Mudkip(Agua):\n",
        "    def __init__(self):\n",
        "        self.ataques = Agua.ataques + [\"Gruñido\", \"Golpe Roca\"]\n",
        "        self.hp = Pokemon.hp + 50\n",
        "\n",
        "class Charmander(Fuego):\n",
        "    def __init__(self):\n",
        "        self.ataques = Fuego.ataques + [\"Gruñido\", \"Pantalla humo\"]\n",
        "        self.hp = Pokemon.hp + 38\n",
        "\n",
        "class Cyndaquil(Fuego):\n",
        "    def __init__(self):\n",
        "        self.ataques = Fuego.ataques + [\"Placaje\", \"Pantalla humo\"]\n",
        "        self.hp = Pokemon.hp + 38\n",
        "\n",
        "\n",
        "class Torchic(Fuego):\n",
        "    def __init__(self):\n",
        "        self.ataques = Fuego.ataques + [\"Golpe Rápido\", \"Gruñido\"]\n",
        "        self.hp = Pokemon.hp + 44\n",
        "\n",
        "class Bulbasur(Planta):\n",
        "    def __init__(self):\n",
        "        self.ataques = Planta.ataques + [\"Placaje\", \"Gruñido\"]\n",
        "        self.hp = Pokemon.hp + 44\n",
        "\n",
        "class Chikorita(Planta):\n",
        "    def __init__(self):\n",
        "        self.ataques = Planta.ataques + [\"Hoja afilada\", \"Placaje\"]\n",
        "        self.hp = Pokemon.hp + 44\n",
        "\n",
        "\n",
        "class Treecko(Planta):\n",
        "    def __init__(self):\n",
        "        self.ataques = Planta.ataques + [\"Golpe Rápido\", \"Follaje\"]\n",
        "        self.hp = Pokemon.hp + 39\n"
      ]
    },
    {
      "cell_type": "code",
      "execution_count": 22,
      "id": "425b650b",
      "metadata": {},
      "outputs": [
        {
          "name": "stdout",
          "output_type": "stream",
          "text": [
            "['Arañazo', 'Pistola Agua', 'Placaje', 'Golpe rapido']\n",
            "44\n",
            "Fuego\n",
            "Planta\n",
            "['Arañazo', 'Pistola Agua', 'Mordisco', 'Leer']\n",
            "50\n",
            "Fuego\n",
            "Planta\n",
            "['Arañazo', 'Pistola Agua', 'Gruñido', 'Golpe Roca']\n",
            "51\n",
            "Fuego\n",
            "Planta\n"
          ]
        }
      ],
      "source": [
        "'''\n",
        "Pokemons de agua\n",
        "'''\n",
        "print(Squirtle().ataques)\n",
        "print(Squirtle().hp)\n",
        "print(Squirtle().fuerte)\n",
        "print(Squirtle().debil)\n",
        "print(Totodile().ataques)\n",
        "print(Totodile().hp)\n",
        "print(Totodile().fuerte)\n",
        "print(Totodile().debil)\n",
        "print(Mudkip().ataques)\n",
        "print(Mudkip().hp)\n",
        "print(Mudkip().fuerte)\n",
        "print(Mudkip().debil)\n",
        "\n"
      ]
    },
    {
      "cell_type": "code",
      "execution_count": 23,
      "id": "7e09b22a",
      "metadata": {},
      "outputs": [
        {
          "name": "stdout",
          "output_type": "stream",
          "text": [
            "['Arañazo', 'Lanzallamas', 'Gruñido', 'Pantalla humo']\n",
            "39\n",
            "Planta\n",
            "Agua\n",
            "['Arañazo', 'Lanzallamas', 'Placaje', 'Pantalla humo']\n",
            "39\n",
            "Planta\n",
            "Agua\n",
            "['Arañazo', 'Lanzallamas', 'Golpe Rápido', 'Gruñido']\n",
            "45\n",
            "Planta\n",
            "Agua\n"
          ]
        }
      ],
      "source": [
        "'''\n",
        "Pokemons de fuego\n",
        "'''\n",
        "print(Charmander().ataques)\n",
        "print(Charmander().hp)\n",
        "print(Charmander().fuerte)\n",
        "print(Charmander().debil)\n",
        "print(Cyndaquil().ataques)\n",
        "print(Cyndaquil().hp)\n",
        "print(Cyndaquil().fuerte)\n",
        "print(Cyndaquil().debil)\n",
        "print(Torchic().ataques)\n",
        "print(Torchic().hp)\n",
        "print(Torchic().fuerte)\n",
        "print(Torchic().debil)"
      ]
    },
    {
      "cell_type": "code",
      "execution_count": 24,
      "id": "ea5937c2",
      "metadata": {},
      "outputs": [
        {
          "name": "stdout",
          "output_type": "stream",
          "text": [
            "['Arañazo', 'Latigo Cepa', 'Placaje', 'Gruñido']\n",
            "45\n",
            "Agua\n",
            "Fuego\n",
            "['Arañazo', 'Latigo Cepa', 'Hoja afilada', 'Placaje']\n",
            "45\n",
            "Agua\n",
            "Fuego\n",
            "['Arañazo', 'Latigo Cepa', 'Golpe Rápido', 'Follaje']\n",
            "40\n",
            "Agua\n",
            "Fuego\n"
          ]
        }
      ],
      "source": [
        "'''\n",
        "Pokemons de planta\n",
        "'''\n",
        "print(Bulbasur().ataques)\n",
        "print(Bulbasur().hp)\n",
        "print(Bulbasur().fuerte)\n",
        "print(Bulbasur().debil)\n",
        "print(Chikorita().ataques)\n",
        "print(Chikorita().hp)\n",
        "print(Chikorita().fuerte)\n",
        "print(Chikorita().debil)\n",
        "print(Treecko().ataques)\n",
        "print(Treecko().hp)\n",
        "print(Treecko().fuerte)\n",
        "print(Treecko().debil)"
      ]
    },
    {
      "cell_type": "markdown",
      "id": "943e5ecb",
      "metadata": {
        "id": "943e5ecb"
      },
      "source": [
        "## Polimorfismo\n",
        "\n",
        "Esto es un poco abstracto de explicar, pero veréis que en aplicación es una chorrada.\n",
        "\n",
        "Cuando yo programo una función, si la llamo \"hacer_algo()\", entonces no puedo volver a crear ninguna otra función que se llame igual, porque sobreescribiría la primera (incluso si no, no es práctico). Probemos, ejecutad este código:"
      ]
    },
    {
      "cell_type": "code",
      "execution_count": null,
      "id": "308384e6",
      "metadata": {
        "id": "308384e6",
        "outputId": "3a3bcbf9-a477-4fdb-fe02-2858926462a2"
      },
      "outputs": [
        {
          "name": "stdout",
          "output_type": "stream",
          "text": [
            "segunda funcion\n"
          ]
        }
      ],
      "source": [
        "def hacer_algo():\n",
        "    print(\"primera funcion\")\n",
        "\n",
        "def hacer_algo():\n",
        "    print(\"segunda funcion\")\n",
        "\n",
        "hacer_algo()"
      ]
    },
    {
      "cell_type": "markdown",
      "id": "c54f539b",
      "metadata": {
        "id": "c54f539b"
      },
      "source": [
        "Pasa igual con variables. Si creo otra variable con el mismo nombre, se sobreescribe. Esto puede ser un problema a veces, pero se soluciona con polimorfismo.\n",
        "\n",
        "Dentro del contexto de una clase, cada método tiene que tener un nombre diferente, para que no se pisen (eso es igual), pero como cada método pertenece a una clase, dos clases diferentes si que pueden tener métodos con el mismo nombre. Después, puedo llamar a esos métodos de manera genérica, sin saber exactamente a cuál de las posibles clases pertenece el objeto. Esto es porque dos cosas pueden hacer la misma acción pero de distinta manera o con diferente resultado. Investigad sobre ello, veréis que es más sencillo de lo que parece."
      ]
    },
    {
      "cell_type": "markdown",
      "id": "5e26404b",
      "metadata": {
        "id": "5e26404b"
      },
      "source": [
        "## POO Ejercicio 5:\n",
        "\n",
        "Programad una clase Vaca que tenga un método .cantar(). Cuando lo llamo, la vaca dirá \"Muuu!\". Ahora igual pero con perro, y en vez de \"Muuu\", dirá \"Guau!\". Ahora un gato que al llamar a .cantar(), diga \"Miau!\", un cerdo que diga \"Oink!\" y un pájaro que diga \"Pío\".\n",
        "\n",
        "Después instanciad cada animal en una variable, instanciad algunos animales repetidos. Con un bucle for, recorred esa lista de animales y hacedlos cantar :)"
      ]
    },
    {
      "cell_type": "code",
      "execution_count": 25,
      "id": "c10de78f",
      "metadata": {
        "id": "c10de78f"
      },
      "outputs": [],
      "source": [
        "class Vaca:\n",
        "    def cantar(self):\n",
        "        print(\"Muuuu!\")\n",
        "\n",
        "class Perro:\n",
        "    def cantar(self):\n",
        "        print(\"Guau!\")\n",
        "\n",
        "class Gato:\n",
        "    def cantar(self):\n",
        "        print(\"Miau!\")\n",
        "\n",
        "class Cerdo:\n",
        "    def cantar(self):\n",
        "        print(\"Oink!\")\n",
        "\n",
        "class Pajaro:\n",
        "    def cantar(self):\n",
        "        print(\"Pío\")\n",
        "\n",
        "class Dino:\n",
        "    def cantar(self):\n",
        "        print(\"SCREEEE! 6/6 trample\")"
      ]
    },
    {
      "cell_type": "code",
      "execution_count": 26,
      "id": "77ed66b0",
      "metadata": {},
      "outputs": [
        {
          "name": "stdout",
          "output_type": "stream",
          "text": [
            "Miau!\n",
            "Miau!\n",
            "Guau!\n",
            "SCREEEE! 6/6 trample\n",
            "Miau!\n",
            "Pío\n",
            "Oink!\n",
            "Oink!\n",
            "Pío\n",
            "Muuuu!\n",
            "Guau!\n"
          ]
        }
      ],
      "source": [
        "gatete_1 = Gato()\n",
        "gatete_2 = Gato()\n",
        "perrete_1 = Perro()\n",
        "perrete_2 = Perro()\n",
        "vaque_1 = Vaca()\n",
        "babe = Cerdo()\n",
        "babe_2 = Cerdo()\n",
        "anivia = Pajaro()\n",
        "gatete_3 = Gato()\n",
        "drakuseth = Pajaro()\n",
        "colossal_dredmaw = Dino()\n",
        "\n",
        "animales = [gatete_1, gatete_2, perrete_1, colossal_dredmaw, gatete_3, drakuseth, babe, babe_2, anivia, vaque_1, perrete_2]\n",
        "\n",
        "for i in animales:\n",
        "    i.cantar()\n"
      ]
    }
  ],
  "metadata": {
    "colab": {
      "provenance": []
    },
    "kernelspec": {
      "display_name": "Python 3 (ipykernel)",
      "language": "python",
      "name": "python3"
    },
    "language_info": {
      "codemirror_mode": {
        "name": "ipython",
        "version": 3
      },
      "file_extension": ".py",
      "mimetype": "text/x-python",
      "name": "python",
      "nbconvert_exporter": "python",
      "pygments_lexer": "ipython3",
      "version": "3.8.16"
    }
  },
  "nbformat": 4,
  "nbformat_minor": 5
}

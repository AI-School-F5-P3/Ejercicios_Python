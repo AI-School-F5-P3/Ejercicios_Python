{
  "cells": [
    {
      "cell_type": "markdown",
      "id": "d4e025a0",
      "metadata": {
        "id": "d4e025a0"
      },
      "source": [
        "# Aprendemos Python Básico!!"
      ]
    },
    {
      "cell_type": "markdown",
      "id": "99241057",
      "metadata": {
        "id": "99241057"
      },
      "source": [
        "## Bienvenidxs a Jupyter!!\n",
        "\n",
        "Dedicándonos a la ciencia de datos, este entorno que tenemos para programar será un lugar común bastante habitual (aunque no el único).\n",
        "\n",
        "Jupyter (**JU**lia, **PYT**hon, **R**) es un entorno de programación dedicado a esos lenguajes y pensado para análisis de datos. Nos permite programar en celdas, que se pueden ejecutar de forma independiente, en vez de todo el programa de una. Debajo de cada celda, podemos ver el resultado de la ejecución. Así mismo, cada celda puede ser de uno de los diferentes lenguajes (Julia, R o Python) siempre que tengamos el kernel correspondiente (la extensión) instalada, o puede ser de Markdown.\n",
        "\n",
        "Markdown es un lenguaje que sirve para anotaciones (es en lo que está escrito este texto :D). Funciona como HTML pero simplificado y es muy cómodo de usar. La idea es que estamos haciendo ciencia (de datos, concretamente) y este es nuestro cuaderno de campo. No sólo hacemos experimentos, sino que los anotamos. Es decir, antes de escribir el código para dibujar una gráfica, añado una celda de anotación anunciando qué voy a hacer y por qué, qué resultado espero o qué quiero comprobar o qué pienso que va a ocurrir. Después una celda con el código, que al ejecutarse me devolverá la gráfica, y después otra celda de Markdown comentando las conclusiones. Esa es la buena práctica, porque si no, otra persona que lea mi cuaderno no entenderá nada, o yo mismo si ya han pasado un par de semanas es habitual no recordar por qué lancé tal o cual código.\n",
        "\n",
        "Información sobre Markdown: https://markdown.es/"
      ]
    },
    {
      "cell_type": "markdown",
      "id": "00e56613",
      "metadata": {
        "id": "00e56613"
      },
      "source": [
        "## Ejercicio 1: Markdown\n",
        "\n",
        "Añadid una celda de código en Markdown con vuestro nombre como título, \"Ejercicios Python como subtítulo\", qué os motiva a aprender IA y una lista con las cosas que esperáis aprender"
      ]
    },
    {
      "cell_type": "markdown",
      "id": "404fef51",
      "metadata": {},
      "source": [
        "# Alberto Carrillo\n",
        "## Ejercicios Python\n",
        "\n",
        "Mi motivación principal para aprender IA es su uso en tareas de investigación y su capacidad para poder automatizar procesos, de tal forma que permita dedicar la mayor parte del tiempo a tareas de alta complejidad y permitir un desarrollo teórico más profundo.\n",
        "\n",
        "Cosas a aprender:\n",
        "- Mejor uso de Python\n",
        "- Gestión de bases de datos (MongoDB, SQL, etc.)\n",
        "- Modelos de lenguaje natural\n",
        "- Machine Learning"
      ]
    },
    {
      "cell_type": "markdown",
      "id": "bcf87888",
      "metadata": {
        "id": "bcf87888"
      },
      "source": [
        "## Variables y tipos\n",
        "\n",
        "Un programa no deja de ser un conjunto de instrucciones que reciben datos como entrada y los manipulan para dar otros datos como salida.\n",
        "\n",
        "Los datos son importantes. Un aspecto clave es que los datos de entrada no siempre los conocemos, o algunos parámetros de la ejecución de un programa pueden cambiar, es decir, son **variables**.\n",
        "\n",
        "Prácticamente cualquier lenguaje de programación nos permite definir datos con los que podemos operar pero son variables. Es más, es buena práctica nunca manejar el dato en sí, sino una variable en la que esté guardado y cuya definición sea clara (y muchas veces al comienzo del documento, como buena práctica, o en un archivo separado de variables).\n",
        "\n",
        "Para definir una variable, sencillamente escribimos un nombre y usamos el operador \"=\" para darle un valor.\n",
        "\n",
        "**Buenas prácticas:** por convención, el nombre debe empezar siempre por una letra (no número) y que ésta sea minúscula. El nombre tiene que ser lo más sencillo y descriptivo posible (si estoy trabajando con frutas, utilizar como nombre \"fruta\" en vez de \"var1\"). Los nombres deben ser lo más diferenciados posibles para no confundirlos (si tengo por un lado una furta individual y el total de frutas vendidas, en vez de llamarlo \"fruta\" y \"frutas\", llamarlo \"fruta\" y \"frutas_vendidas\". Por último, aunque en los ejemplos yo no lo he estado haciendo, es preferible que sean en inglés (\"fruit\", \"sold_fruits\")\n",
        "\n",
        "Así mismo, los datos pueden ser de diferentes tipos. El tipo del dato nos permitirá hacer unas cosas u otras con él"
      ]
    },
    {
      "cell_type": "markdown",
      "id": "bc41a365",
      "metadata": {
        "id": "bc41a365"
      },
      "source": [
        "## Ejercicio 2: Variables y tipos\n",
        "\n",
        "- Definir una variable de cada tipo posible (o más común) en Python (string, integer, float, list, tuple, dictionary, boolean)\n",
        "- Investigar qué es cada una, qué permite y qué no y qué posibles métodos podemos usar con ellas\n",
        "- Imprimir el tipo de cada variable definida y comprobar que es correcto\n",
        "- Ponerlo en común con la clase :)\n",
        "- Anotar lo que consideramos importante\n"
      ]
    },
    {
      "cell_type": "code",
      "execution_count": 58,
      "id": "3bec2670",
      "metadata": {
        "id": "3bec2670"
      },
      "outputs": [
        {
          "name": "stdout",
          "output_type": "stream",
          "text": [
            "<class 'str'>\n",
            "<class 'int'>\n",
            "<class 'float'>\n",
            "<class 'complex'>\n",
            "<class 'list'>\n",
            "<class 'range'>\n",
            "<class 'set'>\n",
            "<class 'frozenset'>\n",
            "<class 'tuple'>\n",
            "<class 'dict'>\n",
            "<class 'bool'>\n",
            "<class 'bytes'>\n",
            "<class 'bytearray'>\n",
            "<class 'NoneType'>\n"
          ]
        }
      ],
      "source": [
        "var_string = \"cadena\"\n",
        "var_int = 2\n",
        "var_float = 2.3\n",
        "var_complex = 1j\n",
        "var_list = [1, 2, 3, 4, \"patata\"]\n",
        "var_range = range(2)\n",
        "var_set = {\"esto\", \"es\", \"un\", \"set\"}\n",
        "var_frozenset = frozenset({\"esto\", \"es\", \"un\", \"frozenset\"})\n",
        "var_tuple = (2, 3)\n",
        "var_dict = {\"nombre\": \"Alberto\", \"apellido\": \"Carrillo\"}\n",
        "var_bool = True\n",
        "var_byte = b\"byte\"\n",
        "var_bytearray = bytearray(2)\n",
        "var_none = None\n",
        "\n",
        "print(type(var_string))\n",
        "print(type(var_int))\n",
        "print(type(var_float))\n",
        "print(type(var_complex))\n",
        "print(type(var_list))\n",
        "print(type(var_range))\n",
        "print(type(var_set))\n",
        "print(type(var_frozenset))\n",
        "print(type(var_tuple))\n",
        "print(type(var_dict))\n",
        "print(type(var_bool))\n",
        "print(type(var_byte))\n",
        "print(type(var_bytearray))\n",
        "print(type(var_none))\n"
      ]
    },
    {
      "cell_type": "markdown",
      "metadata": {},
      "source": [
        "- Strings:\n",
        "    - String: Variables de cadena, permiten valores Unicode entre comillas. Son objetos inmutables.\n",
        "        - No permiten operaciones aritméticas.\n",
        "        - Permiten operaciones de concatenación (símbolos \"+\" [añadir] y \"*\" [repetir]) y _slicing_.\n",
        "- Numéricos:\n",
        "    - Int: Variables con números enteros, permiten números sin decimales y pueden realizarse operaciones aritméticas.\n",
        "        - Booleans: Variables que asumen valores True o False, que corresponden a 1 y 0 en númerico. Útiles para establecer igualdades.\n",
        "    - Float: Variables con números decimales, permiten realizar operaciones aritméticas.\n",
        "        - Complex: Variables con números complejos, permiten realizar operaciones aritméticas.\n",
        "- Secuencias: Colección ordenada de ítems. Posicionales en un índice base 0. \n",
        "    - List: Permiten incluir ítems de cualquier tipo de datos, incluido otras listas, permitiendo listas anidadas. Son mutables.\n",
        "        - Permiten operaciones de concatenación (símbolos \"+\" [añadir] y \"*\" [repetir]) y _slicing_ (para acceder a los elementos de la lista).\n",
        "    - Tuplas: Mismas caracterísitcas que la lista, a excepción de que no son mutables.\n",
        "    - Range: Secuencia de números, empleada principalmente para operaciones de iteración. El constructor de rangos acepta valores a partir de 0 e incrementos de X hasta el valor deseado.\n",
        "- Secuencias binarias: Representación de datos en formato binario (1 y 0).\n",
        "    - Bytes: Secuencia de bytes. Se emplea para almacenar datos binarios (archivos, imágenes, paquetes de datos...)\n",
        "    - Bytearray: Secuencia de bytes mutable.\n",
        "- Diccionarios: Conjunto de datos en pares \"llave:valor\". Las llaves suelen ser strings o valores númericos, los valores pueden ser cualquier tipo de dato.\n",
        "- Set: Colección de datos no ordenados, no indexados y que no permiten la repetición de valores. Solo pueden almacenar objetos inmutables. El set por contra si es mutable.\n",
        "- NoneType: Variable que no tiene valor."
      ]
    },
    {
      "cell_type": "markdown",
      "id": "4084ad0b",
      "metadata": {
        "id": "4084ad0b"
      },
      "source": [
        "## Operadores\n",
        "\n",
        "Como seguramente habréis visto, una vez tenemos datos, podemos hacer operaciones con ellos (obviamente), puesto que necesitaremos transformarlos.\n",
        "\n",
        "Podemos clasificar los operadores en tres tipos, matemáticos, comparadores, lógicos, de identidad y de membresía.\n",
        "\n",
        "Algunos nos devolverán un dato transformado (y dependiendo del tipo de dato). Otros nos devolverán un booleano (True o False) y servirán para cosas diferentes."
      ]
    },
    {
      "cell_type": "markdown",
      "id": "7c79394f",
      "metadata": {
        "id": "7c79394f"
      },
      "source": [
        "## Ejercicio 3: Operadores\n",
        "\n",
        "Investigad la lista de operadores y listadlos. Pensad usos que podríais darle. Jugad con ellos (¿qué pasa si sumo strings? ¿Qué pasa si multiplico un string por un integer? ¿Qué pasa si divido por 0? ¿Puedo guardar el resultado de una operación en una variable e imprimirla?)\n",
        "\n",
        "Se trata de hacer ciencia, o sea que experimentad. Después, ponemos en común lo aprendido y lo anotamos"
      ]
    },
    {
      "cell_type": "markdown",
      "id": "60e8411c",
      "metadata": {},
      "source": [
        "### Operadores aritméticos:\n",
        "Permiten realizar operaciones matemáticas con variables numéricas (incluido _bool_ ya que representan los valores numéricos 1 y 0) o realizar operaciones de concatenación con variables de tipo _string_ y _list_."
      ]
    },
    {
      "cell_type": "code",
      "execution_count": 59,
      "id": "4984b9c2",
      "metadata": {
        "id": "4984b9c2"
      },
      "outputs": [
        {
          "name": "stdout",
          "output_type": "stream",
          "text": [
            "5\n",
            "6\n",
            "1.0\n",
            "2\n",
            "8\n",
            "0\n",
            "3\n",
            "hola clase\n",
            "holahola\n",
            "['oko', 'liesa', ' teysa']\n",
            "['oko', 'liesa', 'oko', 'liesa']\n"
          ]
        }
      ],
      "source": [
        "#Tipos de variables\n",
        "v_string = \"hola\"\n",
        "v_int = 2\n",
        "v_bool = True\n",
        "v_list = [\"oko\", \"liesa\"]\n",
        "\n",
        "# Operaciones matemáticas:\n",
        "print(v_int + 3) # Suma = 5\n",
        "print(v_int * 3) # Multiplicación = 6\n",
        "print(v_int / 2) # División = 1.0 (convierte a float)\n",
        "print(v_int % 4) # Modulo = 2 (resto de la división)\n",
        "print(v_int ** 3) # Exponencial = 8 \n",
        "print(v_int // 4) # División entera = 0 \n",
        "print(v_int + v_bool) # Como v_bool = True, True = 1, v_int + v_bool = 3\n",
        "# Algunas operaciones van a dar error por ser operaciones no reales, como 0/0.\n",
        "\n",
        "# Operaciones de concatenación:\n",
        "# String\n",
        "print(v_string + \" clase\") # concatenación = hola clase\n",
        "print(v_string * 2) # repetición = \"holahola\"\n",
        "\n",
        "#Lista\n",
        "print(v_list + [\" teysa\"]) # concatenación, junta las dos listas, la segunda parte se añade al final de la primera = [\"oko\", \"liesa\", \"teysa\"]\n",
        "print(v_list * 2) # repetición = [\"oko\", \"liesa\", \"oko\", \"liesa\"]"
      ]
    },
    {
      "cell_type": "markdown",
      "id": "71a1ef3c",
      "metadata": {},
      "source": [
        "### Operadores de comparación y operadores lógicos.\n",
        "Los operadores de comparación permiten evaluar si dos valores son o no iguales, mayores y/o menores. Los operadores lógicos permiten combinar varios operadores de comparación."
      ]
    },
    {
      "cell_type": "code",
      "execution_count": 60,
      "id": "f8343917",
      "metadata": {},
      "outputs": [
        {
          "name": "stdout",
          "output_type": "stream",
          "text": [
            "True\n",
            "True\n",
            "True\n",
            "False\n",
            "False\n",
            "True\n"
          ]
        }
      ],
      "source": [
        "# Asiganción de variables\n",
        "x = 2\n",
        "y = 3\n",
        "string_1 = \"hola\" \n",
        "string_2 = \"HOLA\"\n",
        "list_1 = [\"lista\"]\n",
        "list_2 = [\"otra lista\", \"con dos items\"]\n",
        "list_3 = [1, 4]\n",
        "list_4 = [2, 1]\n",
        "\n",
        "# Numéricos\n",
        "print(x == x) # True\n",
        "print(x != y) # True\n",
        "print(x <= y) # True\n",
        "print(x >= y) # False\n",
        "print(x > y) # False\n",
        "print(x < y) # True"
      ]
    },
    {
      "cell_type": "code",
      "execution_count": 61,
      "id": "74864706",
      "metadata": {},
      "outputs": [
        {
          "name": "stdout",
          "output_type": "stream",
          "text": [
            "True\n",
            "False\n",
            "True\n",
            "True\n",
            "False\n",
            "True\n",
            "False\n",
            "True\n",
            "True\n"
          ]
        }
      ],
      "source": [
        "# Strings\n",
        "print(string_1 == string_1) # True\n",
        "print(string_1 == string_2) # False, python es case sensitive, con lo que las mayusculas importan\n",
        "print(string_1 != string_2) # True\n",
        "print(string_1 > string_2) # True, esto es debido a que en python compara en función del orden lexográfico de las letras, usando su código asignado en Unicode, las letras mínusculas ocupan un código menor que mayúsculas, por ello el resultado es True.\n",
        "print(list_1 > list_2) # False, las listas comparan elemento a elemento, igual que las strings, se emplea orden de las letras. En las listas si el primer elemento de la lista 1 es menor, el resto de elementos de la lista es irrelevante para la evaluación de mayor o menor. Para mejor entendimiento ver siguiente ejemplo con números.\n",
        "print(list_3 < list_4) # True\n",
        "print(list_1 == list_2) # False, todos los elementos han de ser iguales.\n",
        "print(list_1 == list_1) # True\n",
        "print(list_1 < list_2) # True"
      ]
    },
    {
      "cell_type": "code",
      "execution_count": 62,
      "id": "b93681aa",
      "metadata": {},
      "outputs": [
        {
          "name": "stdout",
          "output_type": "stream",
          "text": [
            "False\n",
            "True\n",
            "True\n"
          ]
        }
      ],
      "source": [
        "# Logical\n",
        "print(x > 3 and x < 4) # False, and requiere que se cumplan ambas condiciones.\n",
        "print(x > 3 or x < 4) # True, or solo requiere que se cumpla una de las dos condiciones.\n",
        "print(not(x > 3 and x < 4)) # True, not devuelve lo contrario al resultado de la condición entre parentesis."
      ]
    },
    {
      "cell_type": "markdown",
      "id": "faeff71d",
      "metadata": {},
      "source": [
        "### Operadores de identidad\n",
        "Permiten comparar si un objeto es el mismo objeto (no que contenga el mismo valor, si no que ocupen el mismo espacio en la memoria)"
      ]
    },
    {
      "cell_type": "code",
      "execution_count": 63,
      "id": "b335972a",
      "metadata": {},
      "outputs": [
        {
          "name": "stdout",
          "output_type": "stream",
          "text": [
            "True\n",
            "False\n",
            "True\n"
          ]
        }
      ],
      "source": [
        "x = 2\n",
        "y = 2\n",
        "\n",
        "print(x is y) # True \n",
        "print(x is not y) # False\n",
        "print(x is x) # True"
      ]
    },
    {
      "cell_type": "markdown",
      "id": "b809b124",
      "metadata": {},
      "source": [
        "### Operadores de pertenencia\n",
        "Permiten determinar si una variable o secuencia forma parte de otro objeto."
      ]
    },
    {
      "cell_type": "code",
      "execution_count": 64,
      "id": "7d9ca697",
      "metadata": {},
      "outputs": [
        {
          "name": "stdout",
          "output_type": "stream",
          "text": [
            "True\n",
            "False\n",
            "True\n",
            "False\n"
          ]
        }
      ],
      "source": [
        "x = \"h\"\n",
        "y = \"hola\"\n",
        "\n",
        "print(x in y) # True, existe un elemento \"h\" dentro de \"hola\"\n",
        "print(x not in y) # False\n",
        "\n",
        "x = [\"liesa\", \"teysa\"]\n",
        "y = \"liesa\"\n",
        "\n",
        "print(y in x) # True\n",
        "print(\"l\" in x) # False, en listas se evalua si existe un elemento completo que equivalga a la string.\n",
        "# print(x not in y) dará error, ya que la variable string tiene que permanecer en el lado izquierdo de la comparación con un conjunto."
      ]
    },
    {
      "cell_type": "markdown",
      "id": "6afb17d1",
      "metadata": {},
      "source": [
        "### Operadores bitwise\n",
        "Permiten realizar algebra de Boole sobre bits numéricos.\n",
        "- \"&\" (AND) realiza una conjunción lógica, para cada par de bits ocupando la misma posición, devuelve un 1 donde ambos valores son 1. Es una intersección de los operadores.\n",
        "- \"|\" (OR) realiza una disyunción lógica, para cada par de bits ocupando la misma posicióon, devuelve un 1 donde al menos uno de los valores sea 1. Es una unión de los operadores.\n",
        "- \"~\" (NOT) requiere un único operador, devuelve el valor contrario del conjunto de bits (complemento del operador).\n",
        "- \"<<\" (LEFT SHIFT) desplaza los bits del conjunto a la izquierda, tantos valores como se especifique en el operador, introduce tantos 0 como sea necesario para rellenar el conjunto a la derecha.\n",
        "- \">>\" (RIGHT SHIFT) desplaza los bits del conjunto a la derecha, tantos valores como se especifique en el operador, introduce tantos 0 como sea necesario para rellenar el conjunto a la izquierda."
      ]
    },
    {
      "cell_type": "code",
      "execution_count": 65,
      "id": "f9440970",
      "metadata": {},
      "outputs": [
        {
          "name": "stdout",
          "output_type": "stream",
          "text": [
            "2\n",
            "3\n",
            "-3\n",
            "4\n",
            "1\n"
          ]
        }
      ],
      "source": [
        "x = 2 # 10 en binario\n",
        "y = 3 # 11 en binario\n",
        "\n",
        "print(x & y) # 10 x 11 = 10 = 2\n",
        "print(x | y) # 10 | 11 = 11 = 3\n",
        "print(~x) # -3 (valor complementario)\n",
        "print(x << 1) # 10 << 1 = 100 = 4\n",
        "print(x >> 1) # 10 >> 1 = 01 = 1"
      ]
    },
    {
      "cell_type": "markdown",
      "id": "e5e4855e",
      "metadata": {
        "id": "e5e4855e"
      },
      "source": [
        "## Condicionales\n",
        "\n",
        "Probablemente, querremos que nuestro programa haga una cosa u otra en función de si una variable contiene un valor u otro. Esto es lo que le da juego a un programa y lo hace parecer inteligente (no sólo una calculadora).\n",
        "\n",
        "Por ejemplo, podemos tener un programa que todas las mañanas compruebe el stock de un almacén de azulejos. Si tengo en stock menos de un 20% del total, el programa puede hacer un pedido automáticamente. Pero si está por encima, no quiero que haga nada.\n",
        "\n",
        "Esto se puede complicar. Porque si es menos del 20% pero es un 0% es probable que haya un problema (en un día se están gastando más azulejos de los que da tiempo a reponer), entonces en ese caso especial puedo querer que el programa lance una alerta. Además si en dos días consecutivos el almacén no baja del mismo número de azulejos y además esos días no son fines de semana significa que no se está trabajando y eso es otro problema que requerirá de otra acción diferente.\n",
        "\n",
        "Estos temas pueden complicarse ad infinitum.\n",
        "\n",
        "Desde siempre en Python hemos contado con las cláusulas if/elif/else. Debéis investigar sobre ellas.\n",
        "\n",
        "En últimas versiones (desde 3.10), contamos con un switch case (que quizá os suene de otros lenguajes) con las cláusulas match/case, que es mucho más eficiente (algo clave cuando nos dedicamos a los datos). Investigad sobre ello también."
      ]
    },
    {
      "cell_type": "markdown",
      "id": "a555e1ef",
      "metadata": {
        "id": "a555e1ef"
      },
      "source": [
        "## Ejercicio 4: Condicionales\n",
        "\n",
        "Escribid el código de un programa para la puerta de un teatro que pregunte al usuario cuál es su edad. Si el usuario es menor de 10 años, no podrá entrar. Si es menor de 18, podrá entrar pero acompañado de un adulto. Si es mayor de 18 podrá entrar sin problema. El programa debe imprimir un mensaje diciendo si puede entrar o si tiene que ir acompañado.\n",
        "\n",
        "Por darle una vuelta más, podéis comprobar algunas cosas. Por ejemplo, no es razonable que una persona menor de 3 años rellene el formulario, así que será un error o alguien intentando engañar. Si es menos que 0, más de lo mismo. Tampoco parece razonable que lo rellene alguien mayor de 100 años, por ejemplo. ¿Qué pasa si el usuario introduce algo que no es un número? o con decimales.\n",
        "\n",
        "Al acabar, lo ponemos en común y anotamos lo que hemos aprendido."
      ]
    },
    {
      "cell_type": "code",
      "execution_count": 75,
      "id": "c0d80dd3",
      "metadata": {
        "id": "c0d80dd3"
      },
      "outputs": [
        {
          "name": "stdout",
          "output_type": "stream",
          "text": [
            "Puedes pasar\n"
          ]
        }
      ],
      "source": [
        "def edad_teatro():\n",
        "    '''\n",
        "    Se define un try catch para comprobar que el número introducido es un entero. \n",
        "    Despúes se especifica mediante condicionales if else las diferentes condiciones de edad para intentar completar todos los casos posibles.\n",
        "    '''\n",
        "    try:\n",
        "        edad = int(input(\"Anote aquí su edad\"))\n",
        "        if edad >= 6 and edad < 10:\n",
        "            print(\"Acceso denegado, has de ser mayor de 10 años\")\n",
        "        elif edad >=10 and edad < 18:\n",
        "            print(\"Debes ir acompañado de un adulto\")\n",
        "        elif edad < 0:\n",
        "            print(\"Es imposible tener edad negativa máquina\")\n",
        "        elif edad > 117: #La persona con más edad del mundo tiene 117 años\n",
        "            print(\"La persona con más edad del mundo tiene menos que tú\")\n",
        "        elif edad < 6:\n",
        "            print(\"Debatible que tengas esta edad y uses un ordenador\")\n",
        "        else:\n",
        "            print(\"Puedes pasar\")\n",
        "    except ValueError:\n",
        "        print(\"Debes introducir un número entero\")\n",
        "    \n",
        "   \n",
        "edad_teatro()\n"
      ]
    },
    {
      "cell_type": "code",
      "execution_count": 85,
      "id": "c3ecdad0",
      "metadata": {},
      "outputs": [
        {
          "name": "stdout",
          "output_type": "stream",
          "text": [
            "La persona con más edad del mundo tiene menos que tú\n"
          ]
        }
      ],
      "source": [
        "# Modelo empleando match case, match case es más recomendable para casos en los que no se requiera de comparadores numéricos como es el caso, pero para demostrar su funcionamiento se usa el ejemplo.\n",
        "def edad_teatro_2():\n",
        "    '''\n",
        "    Se define la misma función que en el caso anterior, pero en este caso se emplea un match case en lugar de los condicionales if else.\n",
        "    '''\n",
        "    try: \n",
        "        edad = int(input(\"Anote aquí su edad\"))\n",
        "        match edad:\n",
        "            case _ if edad < 0: # El guión bajo se conoce como una guard clause, en este caso se podría sustituir por \"edad\" pero es más rápido de escribir y más visual.\n",
        "                print(\"Es imposible tener edad negativa máquina\")\n",
        "            case _ if edad < 6:\n",
        "                print(\"Debatible que tengas esta edad y uses un ordenador\")\n",
        "            case _ if edad >= 6 and edad < 10:\n",
        "                print(\"Acceso denegado, has de ser mayor de 10 años\")\n",
        "            case _ if edad >= 10 and edad < 18:\n",
        "                print(\"Debes ir acompañado de un adulto\")\n",
        "            case _ if edad > 117:\n",
        "                print(\"La persona con más edad del mundo tiene menos que tú\")\n",
        "            case _: # Caso \"else\"\n",
        "                print(\"Acceso permitido\")\n",
        "    except ValueError:\n",
        "        print(\"Debes introducir un número entero\")\n",
        "\n",
        "\n",
        "edad_teatro_2()\n"
      ]
    },
    {
      "cell_type": "markdown",
      "id": "e4691d36",
      "metadata": {
        "id": "e4691d36"
      },
      "source": [
        "## Bucles\n",
        "\n",
        "Habitualmente necesitaremos ejecutar una misma tarea de manera repetida.\n",
        "\n",
        "Es importante entender que pueden darse dos situaciones:\n",
        "\n",
        "1. Necesito que una tarea se repita hasta que se cumpla una condición\n",
        "2. Necesito que una tarea se repita para cada elemento de una lista/tupla/diccionario/set\n",
        "\n",
        "En el primero de los casos, lo que necesito es un bucle while. Este evaluará una cláusula. Mientras esa cláusula se evalúe como True, el código seguirá repitiéndose.\n",
        "\n",
        "En el segundo, necesito un bucle for. Este bucle recorrerá el elemento que le pasemos y por cada vuelta guardará ese valor en una variable que puede ser manipulada dentro del propio bucle (es el más complicado de entender, pero el más común, así que detenéos el tiempo que sea necesario para entenderlo)"
      ]
    },
    {
      "cell_type": "markdown",
      "id": "ff2dd527",
      "metadata": {
        "id": "ff2dd527"
      },
      "source": [
        "## Ejercicio 5: Bucles\n",
        "\n",
        "Generad una lista de 10 números diferentes. Con un bucle, comprobad si el número es par o impar. Imprimid si es par o impar, y si es impar, multiplicadlo por dos para que sea par. Al final tiene que quedar una lista solo con números pares.\n",
        "\n",
        "Después cread una variable para la que su valor sea 0. Con un bucle, id añadiéndole 1 e imprimiendo el nuevo valor. El bucle debería parar cuando la variable valga 16"
      ]
    },
    {
      "cell_type": "code",
      "execution_count": 87,
      "id": "3bdd0978",
      "metadata": {
        "id": "3bdd0978"
      },
      "outputs": [
        {
          "name": "stdout",
          "output_type": "stream",
          "text": [
            "[26, 74, 71, 42, 31, 56, 93, 24, 1, 65]\n",
            "par\n",
            "par\n",
            "('impar', 142)\n",
            "par\n",
            "('impar', 62)\n",
            "par\n",
            "('impar', 186)\n",
            "par\n",
            "('impar', 2)\n",
            "('impar', 130)\n"
          ]
        }
      ],
      "source": [
        "import random #Biblioteca para generar números aleatorios\n",
        "\n",
        "#random.seed(12) #Se permite fijar una seed para que el resultado siempre sea el mismo y comprobar que el funcionamiento es correcto\n",
        "lista_rng = random.sample(range(1, 100), 10) #Lista de 10 números aleatorios entre el 1 y el 100\n",
        "print(lista_rng)\n",
        "\n",
        "for i in lista_rng:\n",
        "    '''\n",
        "    Si el resto entre la división de cada elemento y 2 es 0 el número será par, de lo contrario será impar.\n",
        "    '''\n",
        "    if i%2 == 0:\n",
        "        print(\"par\")\n",
        "    else:\n",
        "        x= i*2\n",
        "        print((\"impar\", x))"
      ]
    },
    {
      "cell_type": "code",
      "execution_count": 88,
      "id": "d273025c",
      "metadata": {},
      "outputs": [
        {
          "name": "stdout",
          "output_type": "stream",
          "text": [
            "16\n"
          ]
        }
      ],
      "source": [
        "#Bucle while\n",
        "\n",
        "valor = 0 # Se fija el valor inicial a 0\n",
        "\n",
        "while valor < 16: \n",
        "    '''\n",
        "    Mientras el valor sea inferior a 0 el bucle se repite. \n",
        "    Se solicita que sea menor para que, si el valor se fija por error por encima de 16, el bucle no se repita indefinidamente.\n",
        "    '''\n",
        "    valor += 1 # Valor es igual a valor + 1\n",
        "\n",
        "print(valor) # Se imprime el valor para comprobar que es 16 exacto."
      ]
    },
    {
      "cell_type": "markdown",
      "id": "1b47d11f",
      "metadata": {
        "id": "1b47d11f"
      },
      "source": [
        "## Funciones\n",
        "\n",
        "A veces, os daréis cuenta de que en distintas partes del código necesitáis hacer las mismas acciones. Programar la misma acción las veces que sean necesarias es lento, poco eficiente, difícil de mantener y propenso a errores.\n",
        "\n",
        "Es mejor encapsular el código en algo que pueda ser reutilizado. Eso son las funciones. Puedo definir una función, indicarle qué datos debe recibir, manipular esos datos en su interior y devolverlos cuando acabe. Por buenas prácticas, cada función debe realizar una sola función (valga la redundancia). Si una sola función hace dos cosas, debería separarla en dos funciones. Es muy recomendable comentarlas utilizando lo que en python se llaman docstrings (investigad lo que es). El nombre de la función debe ser descriptiva de lo que la función hace (y no se puede empezar por mayúsculas ni por números, por convención). Son muy importantes para, por ejemplo, evitar líos de anidación de bucles o de condicionales."
      ]
    },
    {
      "cell_type": "markdown",
      "id": "d790e2d5",
      "metadata": {
        "id": "d790e2d5"
      },
      "source": [
        "## Ejercicio 6: Funciones\n",
        "\n",
        "Escribir una función que reciba por parámetro el nombre de una persona completo con apellidos, su edad y la fecha de hoy. LA función debe separar el nombre de los apellidos, calcular el año de nacimiento y devolver una lista del tipo: [nombre, apellidos, año de nacimiento]"
      ]
    },
    {
      "cell_type": "code",
      "execution_count": 89,
      "id": "809f3de5",
      "metadata": {},
      "outputs": [
        {
          "data": {
            "text/plain": [
              "['Teysa', 'Karlov Orzov', (1989, 1988)]"
            ]
          },
          "execution_count": 89,
          "metadata": {},
          "output_type": "execute_result"
        }
      ],
      "source": [
        "#El primer metodo asume que la variable ya está definida y en un formato concreto que conocemos, con la fecha separada por guiones y nombre y apellidos por espacios en blanco.\n",
        "\n",
        "social = \"Teysa Karlov Orzov 35 12-06-2024\"\n",
        "\n",
        "# str.split divide la cadena en función de un carácter concreto, en este caso espacio vacio, y se selecciona la posición para cada variable.\n",
        "\n",
        "def separador(datos):\n",
        "    nombre = str.split(social, \" \")[0]\n",
        "    apellidos = str.split(social, \" \")[1] + ' ' + str.split(social, \" \")[2] # Unión de primer y segundo apellido\n",
        "    edad = int(str.split(social, \" \")[3])\n",
        "    fecha = str.split(social, \" \")[4]\n",
        "    año_hoy = int(str.split(fecha, \"-\")[2]) # De la fecha se extrae solament el año, ultima posición recuperada, para definir el año de nacimiento. En este caso el caracter separador es un guión.\n",
        "    año = año_hoy - edad\n",
        "    año_aprox = (año, año-1) # Como operamos con la edad del usuario, no puede calcularse el año exacto, se aproxima por tanto a los dos únicos posibles años.\n",
        "    total = [nombre, apellidos, año_aprox]\n",
        "    return(total)\n",
        "\n",
        "separador(social)\n"
      ]
    },
    {
      "cell_type": "code",
      "execution_count": 95,
      "id": "1eeaf4ac",
      "metadata": {},
      "outputs": [
        {
          "name": "stdout",
          "output_type": "stream",
          "text": [
            "Tienes que introducir los valores tal y como indica el texto principal: 'Nombre Apellido1 Apellido2 Edad dd-mm-yyyy'\n"
          ]
        }
      ],
      "source": [
        "# Segundo método, empleando un input de usuario en el que se le pide un formato concreto. Otra opción sería pedir inputs para cada uno de los elementos, pero simplificaría mucho el ejercicio.\n",
        "\n",
        "def separador():\n",
        "    try:\n",
        "        social = input(\"Indique su nombre, apellidos, edad y fecha de hoy, separe cada elemento con un espacio, y la fecha por guiones en el formato (dd-mm-yyyy). Nombres compuestos y apellidos compuestos separados por un guión\")\n",
        "        '''\n",
        "        La lógica es la misma que en la función previa. \n",
        "        Se ha incluido un try except para recoger un error de extracción de índices en los siguientes pasos de la función.\n",
        "        Este paso se debe principalmente a que, si se introducen menos elementos de los indicados en el texto del input, las variables no se extraeran correctamente y el programa finalizará con error. De esta forma nos aseguramos que el usuario introduce el formato que nos interesa. Podría evaluarse introducir otras estructuras de control más restrictivas para que sea menos probable que el programa falle.\n",
        "        '''\n",
        "        nombre = str.split(social, \" \")[0]\n",
        "        apellidos = str.split(social, \" \")[1] + ' ' + str.split(social, \" \")[2]\n",
        "        edad = int(str.split(social, \" \")[3])\n",
        "        fecha = str.split(social, \" \")[4]\n",
        "        año_hoy = int(str.split(fecha, \"-\")[2])\n",
        "        año = año_hoy-edad\n",
        "        año_aprox = (año, año-1)\n",
        "        total = [nombre, apellidos, año_aprox]\n",
        "        return(total)\n",
        "    except IndexError:\n",
        "        print(\"Tienes que introducir los valores tal y como indica el texto principal: 'Nombre Apellido1 Apellido2 Edad dd-mm-yyyy'\")\n",
        "\n",
        "separador()"
      ]
    }
  ],
  "metadata": {
    "colab": {
      "provenance": []
    },
    "kernelspec": {
      "display_name": "Python 3 (ipykernel)",
      "language": "python",
      "name": "python3"
    },
    "language_info": {
      "codemirror_mode": {
        "name": "ipython",
        "version": 3
      },
      "file_extension": ".py",
      "mimetype": "text/x-python",
      "name": "python",
      "nbconvert_exporter": "python",
      "pygments_lexer": "ipython3",
      "version": "3.10.14"
    }
  },
  "nbformat": 4,
  "nbformat_minor": 5
}
